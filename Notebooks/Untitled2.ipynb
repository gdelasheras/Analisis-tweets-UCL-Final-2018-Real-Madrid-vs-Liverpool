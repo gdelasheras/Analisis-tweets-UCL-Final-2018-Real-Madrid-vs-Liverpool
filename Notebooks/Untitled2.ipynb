{
 "cells": [
  {
   "cell_type": "markdown",
   "metadata": {},
   "source": [
    "# Proyecto final. Datamining.\n",
    "### Análisis tweets UEFA Champions League Final 2018\n",
    "\n",
    "### Participantes:\n",
    "\n",
    "Gonzalo de las Heras de Matías - Jorge de la Fuente Tagarro - Alejandro Amarillas Cámara - Sergio Sampio Balmaseda.\n",
    "\n",
    "### Notebook (1/4). Preprocesamiento y transformación del dataset.\n",
    "\n",
    "### Objetivo del notebook:\n",
    "\n",
    "Este notebook se centra en preprocesar el dataset, limpiando las columnas existentes y generando aquellas nuevas que sean necesarias.<br><br>\n",
    "\n",
    "![title](Images/background.jpg)"
   ]
  },
  {
   "cell_type": "code",
   "execution_count": null,
   "metadata": {},
   "outputs": [],
   "source": []
  }
 ],
 "metadata": {
  "kernelspec": {
   "display_name": "Python 3",
   "language": "python",
   "name": "python3"
  },
  "language_info": {
   "codemirror_mode": {
    "name": "ipython",
    "version": 3
   },
   "file_extension": ".py",
   "mimetype": "text/x-python",
   "name": "python",
   "nbconvert_exporter": "python",
   "pygments_lexer": "ipython3",
   "version": "3.6.5"
  }
 },
 "nbformat": 4,
 "nbformat_minor": 2
}
